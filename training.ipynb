{
 "cells": [
  {
   "cell_type": "markdown",
   "metadata": {
    "colab_type": "text",
    "id": "mHww3DfSqTcK",
    "pycharm": {
     "name": "#%% md\n"
    }
   },
   "source": [
    "### Data preparation for supervised training"
   ]
  },
  {
   "cell_type": "code",
   "execution_count": null,
   "metadata": {
    "colab": {},
    "colab_type": "code",
    "id": "TV6SZm7VdcJ2",
    "pycharm": {
     "name": "#%%\n"
    }
   },
   "outputs": [],
   "source": [
    "import os\n",
    "import zipfile\n",
    "import shutil\n",
    "\n",
    "from urllib.request import urlopen"
   ]
  },
  {
   "cell_type": "code",
   "execution_count": null,
   "metadata": {},
   "outputs": [],
   "source": [
    "if os.name =='nt':\n",
    "    # Windows\n",
    "    os.environ['comspec'] = 'pwsh'            # use if cross platform PowerShell is installed\n",
    "    # os.environ['comspec'] = 'powershell.exe'  # use default otherwise"
   ]
  },
  {
   "cell_type": "code",
   "execution_count": null,
   "metadata": {
    "pycharm": {
     "name": "#%%\n"
    }
   },
   "outputs": [],
   "source": [
    "def unzip(path: str):\n",
    "    with zipfile.ZipFile(path) as z:\n",
    "        z.extractall()\n",
    "\n",
    "\n",
    "def download(url: str, filepath: str):\n",
    "    with urlopen(url) as page:\n",
    "        with open(filepath, 'wb') as f:\n",
    "            f.write(page.read())"
   ]
  },
  {
   "cell_type": "code",
   "execution_count": null,
   "metadata": {
    "pycharm": {
     "name": "#%%\n"
    }
   },
   "outputs": [],
   "source": [
    "# place Adobe Matting Dataset zip here and run the cell\n",
    "\n",
    "if os.path.exists('Adobe_Deep_Matting_Dataset.zip'):\n",
    "    unzip('Adobe_Deep_Matting_Dataset.zip')\n",
    "\n",
    "if os.path.exists('Adobe_Deep_Matting_Dataset.zip'):\n",
    "    os.remove('Adobe_Deep_Matting_Dataset.zip')"
   ]
  },
  {
   "cell_type": "code",
   "execution_count": null,
   "metadata": {
    "colab": {},
    "colab_type": "code",
    "id": "MMWS2AL9qJwi"
   },
   "outputs": [],
   "source": [
    "# create combined Dataset\n",
    "\n",
    "def copy_adobe(source: str, target: str):\n",
    "    os.mkdir(f'fg_{target}')\n",
    "    os.mkdir(f'mask_{target}')\n",
    "    os.mkdir(f'merged_{target}')\n",
    "    with open(f'{target}_data_list.txt') as f:\n",
    "        for line in f:\n",
    "            line: str = line.strip()\n",
    "            if os.path.isfile(f'{source}/Other/fg/{line}'):\n",
    "                shutil.copyfile(f'{source}/Other/fg/{line}', f'fg_{target}/{line}')\n",
    "                shutil.copyfile(f'{source}/Other/alpha/{line}', f'mask_{target}/{line}')\n",
    "            else:\n",
    "                shutil.copyfile(f'{source}/Adobe-licensed images/fg/{line}', f'fg_{target}/{line}')\n",
    "                shutil.copyfile(f'{source}/Adobe-licensed images/alpha/{line}', f'mask_{target}/{line}')"
   ]
  },
  {
   "cell_type": "code",
   "execution_count": null,
   "metadata": {},
   "outputs": [],
   "source": [
    "os.chdir('Data_Adobe')"
   ]
  },
  {
   "cell_type": "code",
   "execution_count": null,
   "metadata": {},
   "outputs": [],
   "source": [
    "copy_adobe('../Combined_Dataset/Test_set', 'test')\n",
    "copy_adobe('../Combined_Dataset/Training_set', 'train')"
   ]
  },
  {
   "cell_type": "code",
   "execution_count": null,
   "metadata": {
    "colab": {
     "base_uri": "https://localhost:8080/",
     "height": 1000
    },
    "colab_type": "code",
    "id": "90Im_pNBl7sP",
    "outputId": "2b0ef535-7264-484f-d0d8-b2b51103255c"
   },
   "outputs": [],
   "source": [
    "# Getting MS-COCO images for backgrounds\n",
    "\n",
    "download('http://images.cocodataset.org/zips/train2017.zip', 'train2017.zip')\n",
    "download('http://images.cocodataset.org/zips/test2017.zip', 'test2017.zip')"
   ]
  },
  {
   "cell_type": "code",
   "execution_count": null,
   "metadata": {
    "pycharm": {
     "name": "#%%\n"
    }
   },
   "outputs": [],
   "source": [
    "unzip('train2017.zip')\n",
    "unzip('test2017.zip')"
   ]
  },
  {
   "cell_type": "code",
   "execution_count": null,
   "metadata": {},
   "outputs": [],
   "source": [
    "os.rename('train2017', 'bg_train')\n",
    "os.rename('test2017', 'bg_test')"
   ]
  },
  {
   "cell_type": "code",
   "execution_count": null,
   "metadata": {},
   "outputs": [],
   "source": [
    "os.chdir('Data_Adobe')"
   ]
  },
  {
   "cell_type": "code",
   "execution_count": null,
   "metadata": {
    "pycharm": {
     "name": "#%%\n"
    }
   },
   "outputs": [],
   "source": [
    "# composing foreground and background\n",
    "\n",
    "!python compose.py --workers 8 --fg_path fg_train --mask_path mask_train --bg_path bg_train --out_path merged_train --out_csv Adobe_train_data.csv\n",
    "!python compose.py --workers 8 --fg_path fg_test --mask_path mask_test --bg_path bg_test --out_path merged_test"
   ]
  },
  {
   "cell_type": "code",
   "execution_count": null,
   "metadata": {
    "colab": {},
    "colab_type": "code",
    "id": "BG05x6_b5QJl"
   },
   "outputs": [],
   "source": [
    "os.chdir('..')"
   ]
  },
  {
   "cell_type": "markdown",
   "metadata": {
    "colab_type": "text",
    "id": "tSoPmCBSAEbg"
   },
   "source": [
    "### Supervised training"
   ]
  },
  {
   "cell_type": "code",
   "execution_count": null,
   "metadata": {
    "pycharm": {
     "name": "#%%\n"
    }
   },
   "outputs": [],
   "source": [
    "# !python train_adobe.py -n Adobe_train -bs 4 -res 512\n",
    "# !python train_adobe.py -n adobe_train -bs 1 -res 256\n",
    "!python train_adobe.py -n adobe_train -bs 4 -res 128 -w 2 -epoch 10"
   ]
  },
  {
   "cell_type": "markdown",
   "metadata": {
    "colab_type": "text",
    "id": "p5BGhDIQROXI"
   },
   "source": [
    "### Data preparation for unsupervised training"
   ]
  },
  {
   "cell_type": "code",
   "execution_count": null,
   "metadata": {
    "colab": {
     "base_uri": "https://localhost:8080/",
     "height": 207
    },
    "colab_type": "code",
    "id": "-XtA1AprO_nQ",
    "outputId": "6d7006f0-f012-4161-9422-9e690236406e"
   },
   "outputs": [],
   "source": [
    "# splitting videos on frames\n",
    "# get data here https://drive.google.com/drive/folders/1j3BMrRFhFpfzJAe6P2WDtfanoeSCLPiq?usp=sharing\n",
    "\n",
    "!python frames_split.py -f Captured_Data/fixed-camera/train -e mp4"
   ]
  },
  {
   "cell_type": "code",
   "execution_count": null,
   "metadata": {
    "colab": {},
    "colab_type": "code",
    "id": "JAGwS6mwYVDw",
    "scrolled": false
   },
   "outputs": [],
   "source": [
    "# extracting masks\n",
    "\n",
    "root = 'Captured_Data/fixed-camera/train'\n",
    "for directory in (f'{root}/{path}' for path in os.listdir(root) if os.path.isdir(f'{root}/{path}')):\n",
    "    !python test_segmentation_deeplab.py -i $directory"
   ]
  },
  {
   "cell_type": "code",
   "execution_count": null,
   "metadata": {},
   "outputs": [],
   "source": [
    "# prepare real data\n",
    "\n",
    "!python prepare_real.py"
   ]
  },
  {
   "cell_type": "markdown",
   "metadata": {},
   "source": [
    "### Unsupervised training"
   ]
  },
  {
   "cell_type": "code",
   "execution_count": null,
   "metadata": {
    "colab": {},
    "colab_type": "code",
    "id": "k--SalS8jjjD"
   },
   "outputs": [],
   "source": [
    "# !python train_real_fixed.py -n Real_fixed -bs 4 -res 512 -init_model models/adobe_train/net_epoch_60.pth\n",
    "!python train_real_fixed.py -n real_fixed -bs 4 -res 128 -w 2 -epoch 10 -init_model models/adobe_train/net_epoch_10.pth"
   ]
  }
 ],
 "metadata": {
  "colab": {
   "collapsed_sections": [],
   "name": "training.ipynb",
   "provenance": []
  },
  "kernelspec": {
   "display_name": "Python 3",
   "language": "python",
   "name": "python3"
  },
  "language_info": {
   "codemirror_mode": {
    "name": "ipython",
    "version": 3
   },
   "file_extension": ".py",
   "mimetype": "text/x-python",
   "name": "python",
   "nbconvert_exporter": "python",
   "pygments_lexer": "ipython3",
   "version": "3.8.5"
  }
 },
 "nbformat": 4,
 "nbformat_minor": 1
}
